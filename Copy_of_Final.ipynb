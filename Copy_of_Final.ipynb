{
  "nbformat": 4,
  "nbformat_minor": 0,
  "metadata": {
    "colab": {
      "provenance": []
    },
    "kernelspec": {
      "name": "ir",
      "display_name": "R"
    },
    "language_info": {
      "name": "R"
    }
  },
  "cells": [
    {
      "cell_type": "code",
      "execution_count": null,
      "metadata": {
        "id": "G2ZQW0UxLKZp"
      },
      "outputs": [],
      "source": [
        "# Check if is running in Colab and redefine is_interactive()\n",
        "if (file.exists(\"/usr/local/lib/python3.6/dist-packages/google/colab/_ipython.py\")) {\n",
        "  install.packages(\"R.utils\")\n",
        "  library(R.utils)\n",
        "  library(httr)\n",
        "  my_check <- function() {return(TRUE)}\n",
        "  reassignInPackage(\"is_interactive\", pkgName = \"httr\", my_check)\n",
        "  options(rlang_interactive=TRUE) \n",
        "}"
      ]
    },
    {
      "cell_type": "code",
      "source": [
        "# If ts not available we need to install . put other packages if you need.\n",
        "packages <- c(\"googledrive\", \"googlesheets4\")\n",
        "if (length(setdiff(packages, rownames(installed.packages()))) > 0) {\n",
        "  install.packages(setdiff(packages, rownames(installed.packages())))  \n",
        "} "
      ],
      "metadata": {
        "id": "McUdf2veLW7E"
      },
      "execution_count": null,
      "outputs": []
    },
    {
      "cell_type": "code",
      "source": [
        "library(googledrive)\n",
        "library(googlesheets4)"
      ],
      "metadata": {
        "colab": {
          "base_uri": "https://localhost:8080/"
        },
        "id": "YiXhJ0DwLY7-",
        "outputId": "da372c21-23d4-43ac-8dc9-d3c67f5b8d9b"
      },
      "execution_count": null,
      "outputs": [
        {
          "output_type": "stream",
          "name": "stderr",
          "text": [
            "\n",
            "Attaching package: ‘googlesheets4’\n",
            "\n",
            "\n",
            "The following objects are masked from ‘package:googledrive’:\n",
            "\n",
            "    request_generate, request_make\n",
            "\n",
            "\n"
          ]
        }
      ]
    },
    {
      "cell_type": "markdown",
      "source": [
        "# **Importing the libraries**"
      ],
      "metadata": {
        "id": "1n2YRAZlLfy2"
      }
    },
    {
      "cell_type": "code",
      "source": [
        "install.packages(\"factoextra\")\n",
        "install.packages(\"ggplot\")\n",
        "install.packages(\"corrplot\")\n",
        "install.packages(\"caret\")\n",
        "install.packages('caTools')\n",
        "install.packages(\"class\")\n",
        "install.packages('MLmetrics')\n",
        "install.packages('randomForest')"
      ],
      "metadata": {
        "colab": {
          "base_uri": "https://localhost:8080/"
        },
        "id": "tsEL1_g7Lbgb",
        "outputId": "d6943bf7-bc26-4f85-c9ad-35757c659387"
      },
      "execution_count": null,
      "outputs": [
        {
          "output_type": "stream",
          "name": "stderr",
          "text": [
            "Installing package into ‘/usr/local/lib/R/site-library’\n",
            "(as ‘lib’ is unspecified)\n",
            "\n",
            "also installing the dependencies ‘SparseM’, ‘MatrixModels’, ‘minqa’, ‘nloptr’, ‘RcppEigen’, ‘lazyeval’, ‘later’, ‘carData’, ‘pbkrtest’, ‘quantreg’, ‘lme4’, ‘htmlwidgets’, ‘crosstalk’, ‘promises’, ‘estimability’, ‘numDeriv’, ‘mvtnorm’, ‘xtable’, ‘corrplot’, ‘viridis’, ‘car’, ‘DT’, ‘ellipse’, ‘emmeans’, ‘flashClust’, ‘leaps’, ‘multcompView’, ‘scatterplot3d’, ‘ggsci’, ‘cowplot’, ‘ggsignif’, ‘gridExtra’, ‘polynom’, ‘rstatix’, ‘plyr’, ‘Rcpp’, ‘abind’, ‘dendextend’, ‘FactoMineR’, ‘ggpubr’, ‘reshape2’, ‘ggrepel’\n",
            "\n",
            "\n",
            "Installing package into ‘/usr/local/lib/R/site-library’\n",
            "(as ‘lib’ is unspecified)\n",
            "\n",
            "Warning message:\n",
            "“package ‘ggplot’ is not available for this version of R\n",
            "\n",
            "A version of this package for your version of R might be available elsewhere,\n",
            "see the ideas at\n",
            "https://cran.r-project.org/doc/manuals/r-patched/R-admin.html#Installing-packages”\n",
            "Installing package into ‘/usr/local/lib/R/site-library’\n",
            "(as ‘lib’ is unspecified)\n",
            "\n",
            "Installing package into ‘/usr/local/lib/R/site-library’\n",
            "(as ‘lib’ is unspecified)\n",
            "\n",
            "also installing the dependencies ‘listenv’, ‘parallelly’, ‘future’, ‘globals’, ‘future.apply’, ‘progressr’, ‘SQUAREM’, ‘lava’, ‘prodlim’, ‘proxy’, ‘iterators’, ‘gower’, ‘hardhat’, ‘ipred’, ‘timeDate’, ‘e1071’, ‘foreach’, ‘ModelMetrics’, ‘pROC’, ‘recipes’\n",
            "\n",
            "\n",
            "Installing package into ‘/usr/local/lib/R/site-library’\n",
            "(as ‘lib’ is unspecified)\n",
            "\n",
            "also installing the dependency ‘bitops’\n",
            "\n",
            "\n",
            "Installing package into ‘/usr/local/lib/R/site-library’\n",
            "(as ‘lib’ is unspecified)\n",
            "\n",
            "Installing package into ‘/usr/local/lib/R/site-library’\n",
            "(as ‘lib’ is unspecified)\n",
            "\n",
            "also installing the dependencies ‘gtools’, ‘gplots’, ‘ROCR’\n",
            "\n",
            "\n",
            "Installing package into ‘/usr/local/lib/R/site-library’\n",
            "(as ‘lib’ is unspecified)\n",
            "\n"
          ]
        }
      ]
    },
    {
      "cell_type": "code",
      "source": [
        "library(readr) \n",
        "library(tidyverse)  # data manipulation\n",
        "library(cluster)    # clustering algorithms\n",
        "library(factoextra) # clustering visualization\n",
        "library(dendextend) # for comparing two dendrograms\n",
        "library(ggplot2)\n",
        "library(caret)\n",
        "library(corrplot)\n",
        "library(caTools)\n",
        "library(caret)\n",
        "library(class)\n",
        "library(randomForest)"
      ],
      "metadata": {
        "colab": {
          "base_uri": "https://localhost:8080/"
        },
        "id": "D5WMfOjiLdSX",
        "outputId": "fdf096ff-1829-48bf-a25f-35ec962d799b"
      },
      "execution_count": null,
      "outputs": [
        {
          "output_type": "stream",
          "name": "stderr",
          "text": [
            "Welcome! Want to learn more? See two factoextra-related books at https://goo.gl/ve3WBa\n",
            "\n",
            "\n",
            "---------------------\n",
            "Welcome to dendextend version 1.16.0\n",
            "Type citation('dendextend') for how to cite the package.\n",
            "\n",
            "Type browseVignettes(package = 'dendextend') for the package vignette.\n",
            "The github page is: https://github.com/talgalili/dendextend/\n",
            "\n",
            "Suggestions and bug-reports can be submitted at: https://github.com/talgalili/dendextend/issues\n",
            "You may ask questions at stackoverflow, use the r and dendextend tags: \n",
            "\t https://stackoverflow.com/questions/tagged/dendextend\n",
            "\n",
            "\tTo suppress this message use:  suppressPackageStartupMessages(library(dendextend))\n",
            "---------------------\n",
            "\n",
            "\n",
            "\n",
            "Attaching package: ‘dendextend’\n",
            "\n",
            "\n",
            "The following object is masked from ‘package:stats’:\n",
            "\n",
            "    cutree\n",
            "\n",
            "\n",
            "Loading required package: lattice\n",
            "\n",
            "\n",
            "Attaching package: ‘caret’\n",
            "\n",
            "\n",
            "The following object is masked from ‘package:purrr’:\n",
            "\n",
            "    lift\n",
            "\n",
            "\n",
            "corrplot 0.92 loaded\n",
            "\n",
            "randomForest 4.7-1.1\n",
            "\n",
            "Type rfNews() to see new features/changes/bug fixes.\n",
            "\n",
            "\n",
            "Attaching package: ‘randomForest’\n",
            "\n",
            "\n",
            "The following object is masked from ‘package:dplyr’:\n",
            "\n",
            "    combine\n",
            "\n",
            "\n",
            "The following object is masked from ‘package:ggplot2’:\n",
            "\n",
            "    margin\n",
            "\n",
            "\n"
          ]
        }
      ]
    },
    {
      "cell_type": "markdown",
      "source": [
        "# **Exploratory Data Analysis**"
      ],
      "metadata": {
        "id": "2dLTfVr1L3rs"
      }
    },
    {
      "cell_type": "code",
      "source": [
        "Data = read.csv(\"heart.csv\")"
      ],
      "metadata": {
        "id": "OZOlxvMDLdOb"
      },
      "execution_count": null,
      "outputs": []
    },
    {
      "cell_type": "code",
      "source": [
        "#Displaying the first few rows in the data \n",
        "head(Data)"
      ],
      "metadata": {
        "colab": {
          "base_uri": "https://localhost:8080/",
          "height": 286
        },
        "id": "DURQNtnELdJO",
        "outputId": "770b4b7e-fe35-47a9-bf3a-1d1375ca1fa9"
      },
      "execution_count": null,
      "outputs": [
        {
          "output_type": "display_data",
          "data": {
            "text/html": [
              "<table class=\"dataframe\">\n",
              "<caption>A data.frame: 6 × 14</caption>\n",
              "<thead>\n",
              "\t<tr><th></th><th scope=col>age</th><th scope=col>sex</th><th scope=col>cp</th><th scope=col>trestbps</th><th scope=col>chol</th><th scope=col>fbs</th><th scope=col>restecg</th><th scope=col>thalach</th><th scope=col>exang</th><th scope=col>oldpeak</th><th scope=col>slope</th><th scope=col>ca</th><th scope=col>thal</th><th scope=col>target</th></tr>\n",
              "\t<tr><th></th><th scope=col>&lt;int&gt;</th><th scope=col>&lt;int&gt;</th><th scope=col>&lt;int&gt;</th><th scope=col>&lt;int&gt;</th><th scope=col>&lt;int&gt;</th><th scope=col>&lt;int&gt;</th><th scope=col>&lt;int&gt;</th><th scope=col>&lt;int&gt;</th><th scope=col>&lt;int&gt;</th><th scope=col>&lt;dbl&gt;</th><th scope=col>&lt;int&gt;</th><th scope=col>&lt;int&gt;</th><th scope=col>&lt;int&gt;</th><th scope=col>&lt;int&gt;</th></tr>\n",
              "</thead>\n",
              "<tbody>\n",
              "\t<tr><th scope=row>1</th><td>52</td><td>1</td><td>0</td><td>125</td><td>212</td><td>0</td><td>1</td><td>168</td><td>0</td><td>1.0</td><td>2</td><td>2</td><td>3</td><td>0</td></tr>\n",
              "\t<tr><th scope=row>2</th><td>53</td><td>1</td><td>0</td><td>140</td><td>203</td><td>1</td><td>0</td><td>155</td><td>1</td><td>3.1</td><td>0</td><td>0</td><td>3</td><td>0</td></tr>\n",
              "\t<tr><th scope=row>3</th><td>70</td><td>1</td><td>0</td><td>145</td><td>174</td><td>0</td><td>1</td><td>125</td><td>1</td><td>2.6</td><td>0</td><td>0</td><td>3</td><td>0</td></tr>\n",
              "\t<tr><th scope=row>4</th><td>61</td><td>1</td><td>0</td><td>148</td><td>203</td><td>0</td><td>1</td><td>161</td><td>0</td><td>0.0</td><td>2</td><td>1</td><td>3</td><td>0</td></tr>\n",
              "\t<tr><th scope=row>5</th><td>62</td><td>0</td><td>0</td><td>138</td><td>294</td><td>1</td><td>1</td><td>106</td><td>0</td><td>1.9</td><td>1</td><td>3</td><td>2</td><td>0</td></tr>\n",
              "\t<tr><th scope=row>6</th><td>58</td><td>0</td><td>0</td><td>100</td><td>248</td><td>0</td><td>0</td><td>122</td><td>0</td><td>1.0</td><td>1</td><td>0</td><td>2</td><td>1</td></tr>\n",
              "</tbody>\n",
              "</table>\n"
            ],
            "text/markdown": "\nA data.frame: 6 × 14\n\n| <!--/--> | age &lt;int&gt; | sex &lt;int&gt; | cp &lt;int&gt; | trestbps &lt;int&gt; | chol &lt;int&gt; | fbs &lt;int&gt; | restecg &lt;int&gt; | thalach &lt;int&gt; | exang &lt;int&gt; | oldpeak &lt;dbl&gt; | slope &lt;int&gt; | ca &lt;int&gt; | thal &lt;int&gt; | target &lt;int&gt; |\n|---|---|---|---|---|---|---|---|---|---|---|---|---|---|---|\n| 1 | 52 | 1 | 0 | 125 | 212 | 0 | 1 | 168 | 0 | 1.0 | 2 | 2 | 3 | 0 |\n| 2 | 53 | 1 | 0 | 140 | 203 | 1 | 0 | 155 | 1 | 3.1 | 0 | 0 | 3 | 0 |\n| 3 | 70 | 1 | 0 | 145 | 174 | 0 | 1 | 125 | 1 | 2.6 | 0 | 0 | 3 | 0 |\n| 4 | 61 | 1 | 0 | 148 | 203 | 0 | 1 | 161 | 0 | 0.0 | 2 | 1 | 3 | 0 |\n| 5 | 62 | 0 | 0 | 138 | 294 | 1 | 1 | 106 | 0 | 1.9 | 1 | 3 | 2 | 0 |\n| 6 | 58 | 0 | 0 | 100 | 248 | 0 | 0 | 122 | 0 | 1.0 | 1 | 0 | 2 | 1 |\n\n",
            "text/latex": "A data.frame: 6 × 14\n\\begin{tabular}{r|llllllllllllll}\n  & age & sex & cp & trestbps & chol & fbs & restecg & thalach & exang & oldpeak & slope & ca & thal & target\\\\\n  & <int> & <int> & <int> & <int> & <int> & <int> & <int> & <int> & <int> & <dbl> & <int> & <int> & <int> & <int>\\\\\n\\hline\n\t1 & 52 & 1 & 0 & 125 & 212 & 0 & 1 & 168 & 0 & 1.0 & 2 & 2 & 3 & 0\\\\\n\t2 & 53 & 1 & 0 & 140 & 203 & 1 & 0 & 155 & 1 & 3.1 & 0 & 0 & 3 & 0\\\\\n\t3 & 70 & 1 & 0 & 145 & 174 & 0 & 1 & 125 & 1 & 2.6 & 0 & 0 & 3 & 0\\\\\n\t4 & 61 & 1 & 0 & 148 & 203 & 0 & 1 & 161 & 0 & 0.0 & 2 & 1 & 3 & 0\\\\\n\t5 & 62 & 0 & 0 & 138 & 294 & 1 & 1 & 106 & 0 & 1.9 & 1 & 3 & 2 & 0\\\\\n\t6 & 58 & 0 & 0 & 100 & 248 & 0 & 0 & 122 & 0 & 1.0 & 1 & 0 & 2 & 1\\\\\n\\end{tabular}\n",
            "text/plain": [
              "  age sex cp trestbps chol fbs restecg thalach exang oldpeak slope ca thal\n",
              "1 52  1   0  125      212  0   1       168     0     1.0     2     2  3   \n",
              "2 53  1   0  140      203  1   0       155     1     3.1     0     0  3   \n",
              "3 70  1   0  145      174  0   1       125     1     2.6     0     0  3   \n",
              "4 61  1   0  148      203  0   1       161     0     0.0     2     1  3   \n",
              "5 62  0   0  138      294  1   1       106     0     1.9     1     3  2   \n",
              "6 58  0   0  100      248  0   0       122     0     1.0     1     0  2   \n",
              "  target\n",
              "1 0     \n",
              "2 0     \n",
              "3 0     \n",
              "4 0     \n",
              "5 0     \n",
              "6 1     "
            ]
          },
          "metadata": {}
        }
      ]
    },
    {
      "cell_type": "code",
      "source": [
        "#Number Rows and Columns in the dataset\n",
        "ncol(Data)\n",
        "nrow(Data)"
      ],
      "metadata": {
        "colab": {
          "base_uri": "https://localhost:8080/",
          "height": 52
        },
        "id": "UpqTV4j2Mxsd",
        "outputId": "932de176-02fc-4765-a746-b0563ce7809c"
      },
      "execution_count": null,
      "outputs": [
        {
          "output_type": "display_data",
          "data": {
            "text/html": [
              "14"
            ],
            "text/markdown": "14",
            "text/latex": "14",
            "text/plain": [
              "[1] 14"
            ]
          },
          "metadata": {}
        },
        {
          "output_type": "display_data",
          "data": {
            "text/html": [
              "1025"
            ],
            "text/markdown": "1025",
            "text/latex": "1025",
            "text/plain": [
              "[1] 1025"
            ]
          },
          "metadata": {}
        }
      ]
    },
    {
      "cell_type": "code",
      "source": [
        "#Checking for missing values(NA) in the data\n",
        "sum(is.na(Data))"
      ],
      "metadata": {
        "colab": {
          "base_uri": "https://localhost:8080/",
          "height": 34
        },
        "id": "agyPFqpKLdGG",
        "outputId": "777562c8-e569-40d4-cd89-5a195a1e1953"
      },
      "execution_count": null,
      "outputs": [
        {
          "output_type": "display_data",
          "data": {
            "text/html": [
              "0"
            ],
            "text/markdown": "0",
            "text/latex": "0",
            "text/plain": [
              "[1] 0"
            ]
          },
          "metadata": {}
        }
      ]
    },
    {
      "cell_type": "markdown",
      "source": [
        "There are no missing values in the data"
      ],
      "metadata": {
        "id": "Df-xCX-YpsJL"
      }
    },
    {
      "cell_type": "code",
      "source": [
        "#Different columns in the dataset\n",
        "colnames(Data)"
      ],
      "metadata": {
        "colab": {
          "base_uri": "https://localhost:8080/",
          "height": 34
        },
        "id": "TOovRFdeMxiT",
        "outputId": "58847614-6af2-4c90-9542-bca584837a55"
      },
      "execution_count": null,
      "outputs": [
        {
          "output_type": "display_data",
          "data": {
            "text/html": [
              "<style>\n",
              ".list-inline {list-style: none; margin:0; padding: 0}\n",
              ".list-inline>li {display: inline-block}\n",
              ".list-inline>li:not(:last-child)::after {content: \"\\00b7\"; padding: 0 .5ex}\n",
              "</style>\n",
              "<ol class=list-inline><li>'age'</li><li>'sex'</li><li>'cp'</li><li>'trestbps'</li><li>'chol'</li><li>'fbs'</li><li>'restecg'</li><li>'thalach'</li><li>'exang'</li><li>'oldpeak'</li><li>'slope'</li><li>'ca'</li><li>'thal'</li><li>'target'</li></ol>\n"
            ],
            "text/markdown": "1. 'age'\n2. 'sex'\n3. 'cp'\n4. 'trestbps'\n5. 'chol'\n6. 'fbs'\n7. 'restecg'\n8. 'thalach'\n9. 'exang'\n10. 'oldpeak'\n11. 'slope'\n12. 'ca'\n13. 'thal'\n14. 'target'\n\n\n",
            "text/latex": "\\begin{enumerate*}\n\\item 'age'\n\\item 'sex'\n\\item 'cp'\n\\item 'trestbps'\n\\item 'chol'\n\\item 'fbs'\n\\item 'restecg'\n\\item 'thalach'\n\\item 'exang'\n\\item 'oldpeak'\n\\item 'slope'\n\\item 'ca'\n\\item 'thal'\n\\item 'target'\n\\end{enumerate*}\n",
            "text/plain": [
              " [1] \"age\"      \"sex\"      \"cp\"       \"trestbps\" \"chol\"     \"fbs\"     \n",
              " [7] \"restecg\"  \"thalach\"  \"exang\"    \"oldpeak\"  \"slope\"    \"ca\"      \n",
              "[13] \"thal\"     \"target\"  "
            ]
          },
          "metadata": {}
        }
      ]
    },
    {
      "cell_type": "code",
      "source": [
        "#Count of number of patients have the disease\n",
        "Data %>% count(target)"
      ],
      "metadata": {
        "colab": {
          "base_uri": "https://localhost:8080/",
          "height": 178
        },
        "id": "sQNSbt8sLdDE",
        "outputId": "2e8d1193-c55f-48c3-b020-77a1f7a4412a"
      },
      "execution_count": null,
      "outputs": [
        {
          "output_type": "display_data",
          "data": {
            "text/html": [
              "<table class=\"dataframe\">\n",
              "<caption>A data.frame: 2 × 2</caption>\n",
              "<thead>\n",
              "\t<tr><th scope=col>target</th><th scope=col>n</th></tr>\n",
              "\t<tr><th scope=col>&lt;int&gt;</th><th scope=col>&lt;int&gt;</th></tr>\n",
              "</thead>\n",
              "<tbody>\n",
              "\t<tr><td>0</td><td>499</td></tr>\n",
              "\t<tr><td>1</td><td>526</td></tr>\n",
              "</tbody>\n",
              "</table>\n"
            ],
            "text/markdown": "\nA data.frame: 2 × 2\n\n| target &lt;int&gt; | n &lt;int&gt; |\n|---|---|\n| 0 | 499 |\n| 1 | 526 |\n\n",
            "text/latex": "A data.frame: 2 × 2\n\\begin{tabular}{ll}\n target & n\\\\\n <int> & <int>\\\\\n\\hline\n\t 0 & 499\\\\\n\t 1 & 526\\\\\n\\end{tabular}\n",
            "text/plain": [
              "  target n  \n",
              "1 0      499\n",
              "2 1      526"
            ]
          },
          "metadata": {}
        }
      ]
    },
    {
      "cell_type": "markdown",
      "source": [
        "There are 499 patients do not have heart disease and 526 have heart disease"
      ],
      "metadata": {
        "id": "TgUWUm64p2q6"
      }
    },
    {
      "cell_type": "code",
      "source": [
        "#The proportion of patients with chest pain types\n",
        "Data %>% group_by(cp) %>% \n",
        "  summarise( percent = 100 * n() / nrow( Data ))"
      ],
      "metadata": {
        "colab": {
          "base_uri": "https://localhost:8080/",
          "height": 223
        },
        "id": "FyaZ21pTLc_5",
        "outputId": "67b8fe3f-2e0b-47b9-cddb-f0525b05359a"
      },
      "execution_count": null,
      "outputs": [
        {
          "output_type": "display_data",
          "data": {
            "text/html": [
              "<table class=\"dataframe\">\n",
              "<caption>A tibble: 4 × 2</caption>\n",
              "<thead>\n",
              "\t<tr><th scope=col>cp</th><th scope=col>percent</th></tr>\n",
              "\t<tr><th scope=col>&lt;int&gt;</th><th scope=col>&lt;dbl&gt;</th></tr>\n",
              "</thead>\n",
              "<tbody>\n",
              "\t<tr><td>0</td><td>48.487805</td></tr>\n",
              "\t<tr><td>1</td><td>16.292683</td></tr>\n",
              "\t<tr><td>2</td><td>27.707317</td></tr>\n",
              "\t<tr><td>3</td><td> 7.512195</td></tr>\n",
              "</tbody>\n",
              "</table>\n"
            ],
            "text/markdown": "\nA tibble: 4 × 2\n\n| cp &lt;int&gt; | percent &lt;dbl&gt; |\n|---|---|\n| 0 | 48.487805 |\n| 1 | 16.292683 |\n| 2 | 27.707317 |\n| 3 |  7.512195 |\n\n",
            "text/latex": "A tibble: 4 × 2\n\\begin{tabular}{ll}\n cp & percent\\\\\n <int> & <dbl>\\\\\n\\hline\n\t 0 & 48.487805\\\\\n\t 1 & 16.292683\\\\\n\t 2 & 27.707317\\\\\n\t 3 &  7.512195\\\\\n\\end{tabular}\n",
            "text/plain": [
              "  cp percent  \n",
              "1 0  48.487805\n",
              "2 1  16.292683\n",
              "3 2  27.707317\n",
              "4 3   7.512195"
            ]
          },
          "metadata": {}
        }
      ]
    },
    {
      "cell_type": "markdown",
      "source": [
        "There are 48% of patient with typical angina chest pain, 16% ofpatients with atypical angina, 27% with non-angina pain, and 7% with asympotomatic chest pain"
      ],
      "metadata": {
        "id": "7JRnfZgsqxNe"
      }
    },
    {
      "cell_type": "code",
      "source": [
        "#Proportion of males and females patients in the dataset\n",
        "Data %>% \n",
        "    group_by( sex ) %>% \n",
        "    summarise( percent = 100 * n() / nrow( Data ))"
      ],
      "metadata": {
        "colab": {
          "base_uri": "https://localhost:8080/",
          "height": 161
        },
        "id": "hXjvpK6GLc88",
        "outputId": "3cbdab10-ff4e-4c59-cc54-4f7f779a7d9d"
      },
      "execution_count": null,
      "outputs": [
        {
          "output_type": "display_data",
          "data": {
            "text/html": [
              "<table class=\"dataframe\">\n",
              "<caption>A tibble: 2 × 2</caption>\n",
              "<thead>\n",
              "\t<tr><th scope=col>sex</th><th scope=col>percent</th></tr>\n",
              "\t<tr><th scope=col>&lt;int&gt;</th><th scope=col>&lt;dbl&gt;</th></tr>\n",
              "</thead>\n",
              "<tbody>\n",
              "\t<tr><td>0</td><td>30.43902</td></tr>\n",
              "\t<tr><td>1</td><td>69.56098</td></tr>\n",
              "</tbody>\n",
              "</table>\n"
            ],
            "text/markdown": "\nA tibble: 2 × 2\n\n| sex &lt;int&gt; | percent &lt;dbl&gt; |\n|---|---|\n| 0 | 30.43902 |\n| 1 | 69.56098 |\n\n",
            "text/latex": "A tibble: 2 × 2\n\\begin{tabular}{ll}\n sex & percent\\\\\n <int> & <dbl>\\\\\n\\hline\n\t 0 & 30.43902\\\\\n\t 1 & 69.56098\\\\\n\\end{tabular}\n",
            "text/plain": [
              "  sex percent \n",
              "1 0   30.43902\n",
              "2 1   69.56098"
            ]
          },
          "metadata": {}
        }
      ]
    },
    {
      "cell_type": "markdown",
      "source": [
        "There are 30% femlaes and 70% males in the  dataset"
      ],
      "metadata": {
        "id": "kssKeGf_0g3N"
      }
    },
    {
      "cell_type": "code",
      "source": [
        "#Percentage of males and females with heart disease\n",
        "Sub_female <- table(Data[Data$sex==0,]$target)\n",
        "Sub_male <- table(Data[Data$sex==1,]$target)\n",
        "FM_combine <- rbind(Sub_female,Sub_male)\n",
        "\n",
        "#Rename columns names and rows names.\n",
        "colnames(FM_combine) <- c(\"Has heart disease\", \"Does not have heart disease\")\n",
        "rownames(FM_combine) <- c(\"Females\", \"Males\")\n",
        "\n",
        "#Display the table\n",
        "FM_combine"
      ],
      "metadata": {
        "colab": {
          "base_uri": "https://localhost:8080/",
          "height": 129
        },
        "id": "KxL8nTx-MNH8",
        "outputId": "32da41ed-186b-4206-f99b-c8acd87aa16f"
      },
      "execution_count": null,
      "outputs": [
        {
          "output_type": "display_data",
          "data": {
            "text/html": [
              "<table class=\"dataframe\">\n",
              "<caption>A matrix: 2 × 2 of type int</caption>\n",
              "<thead>\n",
              "\t<tr><th></th><th scope=col>Has heart disease</th><th scope=col>Does not have heart disease</th></tr>\n",
              "</thead>\n",
              "<tbody>\n",
              "\t<tr><th scope=row>Females</th><td> 86</td><td>226</td></tr>\n",
              "\t<tr><th scope=row>Males</th><td>413</td><td>300</td></tr>\n",
              "</tbody>\n",
              "</table>\n"
            ],
            "text/markdown": "\nA matrix: 2 × 2 of type int\n\n| <!--/--> | Has heart disease | Does not have heart disease |\n|---|---|---|\n| Females |  86 | 226 |\n| Males | 413 | 300 |\n\n",
            "text/latex": "A matrix: 2 × 2 of type int\n\\begin{tabular}{r|ll}\n  & Has heart disease & Does not have heart disease\\\\\n\\hline\n\tFemales &  86 & 226\\\\\n\tMales & 413 & 300\\\\\n\\end{tabular}\n",
            "text/plain": [
              "        Has heart disease Does not have heart disease\n",
              "Females  86               226                        \n",
              "Males   413               300                        "
            ]
          },
          "metadata": {}
        }
      ]
    },
    {
      "cell_type": "markdown",
      "source": [
        "There are 86 females out of 312 who have diagnosed with heart disease and 413 males out of 713 werediagnosed with hearrt disease.\n",
        "\n",
        "This indicates that 58% of males in this dataset are diagnosed with heart disease where is only 28% of females are dignosed with heart disease."
      ],
      "metadata": {
        "id": "dv5ce0DH1NVM"
      }
    },
    {
      "cell_type": "markdown",
      "source": [
        "Males are more diagnosed with heart disease than females"
      ],
      "metadata": {
        "id": "mu4rK_pe2Je7"
      }
    },
    {
      "cell_type": "code",
      "source": [
        "#Summary of the data\n",
        "summary(Data)"
      ],
      "metadata": {
        "colab": {
          "base_uri": "https://localhost:8080/",
          "height": 534
        },
        "id": "_4bsDBiRMNBt",
        "outputId": "b4ab8492-d7fe-4a57-e785-256af725b767"
      },
      "execution_count": null,
      "outputs": [
        {
          "output_type": "display_data",
          "data": {
            "text/plain": [
              "      age             sex               cp            trestbps    \n",
              " Min.   :29.00   Min.   :0.0000   Min.   :0.0000   Min.   : 94.0  \n",
              " 1st Qu.:48.00   1st Qu.:0.0000   1st Qu.:0.0000   1st Qu.:120.0  \n",
              " Median :56.00   Median :1.0000   Median :1.0000   Median :130.0  \n",
              " Mean   :54.43   Mean   :0.6956   Mean   :0.9424   Mean   :131.6  \n",
              " 3rd Qu.:61.00   3rd Qu.:1.0000   3rd Qu.:2.0000   3rd Qu.:140.0  \n",
              " Max.   :77.00   Max.   :1.0000   Max.   :3.0000   Max.   :200.0  \n",
              "      chol          fbs            restecg          thalach     \n",
              " Min.   :126   Min.   :0.0000   Min.   :0.0000   Min.   : 71.0  \n",
              " 1st Qu.:211   1st Qu.:0.0000   1st Qu.:0.0000   1st Qu.:132.0  \n",
              " Median :240   Median :0.0000   Median :1.0000   Median :152.0  \n",
              " Mean   :246   Mean   :0.1493   Mean   :0.5298   Mean   :149.1  \n",
              " 3rd Qu.:275   3rd Qu.:0.0000   3rd Qu.:1.0000   3rd Qu.:166.0  \n",
              " Max.   :564   Max.   :1.0000   Max.   :2.0000   Max.   :202.0  \n",
              "     exang           oldpeak          slope             ca        \n",
              " Min.   :0.0000   Min.   :0.000   Min.   :0.000   Min.   :0.0000  \n",
              " 1st Qu.:0.0000   1st Qu.:0.000   1st Qu.:1.000   1st Qu.:0.0000  \n",
              " Median :0.0000   Median :0.800   Median :1.000   Median :0.0000  \n",
              " Mean   :0.3366   Mean   :1.072   Mean   :1.385   Mean   :0.7541  \n",
              " 3rd Qu.:1.0000   3rd Qu.:1.800   3rd Qu.:2.000   3rd Qu.:1.0000  \n",
              " Max.   :1.0000   Max.   :6.200   Max.   :2.000   Max.   :4.0000  \n",
              "      thal           target      \n",
              " Min.   :0.000   Min.   :0.0000  \n",
              " 1st Qu.:2.000   1st Qu.:0.0000  \n",
              " Median :2.000   Median :1.0000  \n",
              " Mean   :2.324   Mean   :0.5132  \n",
              " 3rd Qu.:3.000   3rd Qu.:1.0000  \n",
              " Max.   :3.000   Max.   :1.0000  "
            ]
          },
          "metadata": {}
        }
      ]
    },
    {
      "cell_type": "markdown",
      "source": [
        "The describe  function displays important inormation about the each feature such as the minimum value, maximum value,standard deviation, number of observations mean and median nd other useful information."
      ],
      "metadata": {
        "id": "qdUKe_h721YI"
      }
    },
    {
      "cell_type": "code",
      "source": [
        "describe(Data)"
      ],
      "metadata": {
        "colab": {
          "base_uri": "https://localhost:8080/",
          "height": 98
        },
        "id": "QjSeinOdMM--",
        "outputId": "75712d01-6cd6-4705-ac55-c28fd88b8cff"
      },
      "execution_count": null,
      "outputs": [
        {
          "output_type": "error",
          "ename": "ERROR",
          "evalue": "ignored",
          "traceback": [
            "Error in describe(Data): could not find function \"describe\"\nTraceback:\n"
          ]
        }
      ]
    },
    {
      "cell_type": "markdown",
      "source": [
        "# **Data Visualization**"
      ],
      "metadata": {
        "id": "AliXPZkUMVJS"
      }
    },
    {
      "cell_type": "code",
      "source": [
        "\n",
        "#Mapping data into respective meanings\n",
        "Data2 <- Data %>%\n",
        "  mutate(sex = if_else(sex == 1, \"MALE\", \"FEMALE\"),\n",
        "         fbs = if_else(fbs == 1, \">120\", \"<=120\"),\n",
        "         exang = if_else(exang == 1, \"YES\" ,\"NO\"),\n",
        "         cp = if_else(cp == 1, \"ATYPICAL ANGINA\",\n",
        "                      if_else(cp == 2, \"NON-ANGINAL PAIN\", \"ASYMPTOMATIC\")),\n",
        "         restecg = if_else(restecg == 0, \"NORMAL\",\n",
        "                           if_else(restecg == 1, \"ABNORMALITY\", \"PROBABLE OR DEFINITE\")),\n",
        "         slope = as.factor(slope),\n",
        "         ca = as.factor(ca),\n",
        "         thal = as.factor(thal),\n",
        "         target = if_else(target == 1, \"YES\", \"NO\")\n",
        "  ) %>% \n",
        "  mutate_if(is.character, as.factor) %>% \n",
        "  dplyr::select(target, sex, fbs, exang, cp, restecg, slope, ca, thal, everything())"
      ],
      "metadata": {
        "id": "gqbxNsuMNaTb"
      },
      "execution_count": null,
      "outputs": []
    },
    {
      "cell_type": "code",
      "source": [
        "# Bar Plot for target (heart disease)\n",
        "# install.packages(\"ggplot\")\n",
        "library(ggplot2)\n",
        "ggplot( Data2, aes(x=  Data2$target, fill= Data2$target))+\n",
        "  geom_bar()+\n",
        "  xlab(\"Heart Disease\")+\n",
        "  ylab(\"count\")+\n",
        "  ggtitle(\"Presence & Absence of Heart Disease\")+\n",
        "  scale_fill_discrete(name= 'Heart Disease', labels =c(\"Absence\", \"Presence\"))\n",
        "\n",
        "prop.table(table( Data2$target))"
      ],
      "metadata": {
        "colab": {
          "base_uri": "https://localhost:8080/",
          "height": 566
        },
        "id": "4FQ5PaJPNgic",
        "outputId": "1bc780b8-d5b5-41c7-fd23-d8caadf4462a"
      },
      "execution_count": null,
      "outputs": [
        {
          "output_type": "stream",
          "name": "stderr",
          "text": [
            "Warning message:\n",
            "“Use of `Data2$target` is discouraged. Use `target` instead.”\n",
            "Warning message:\n",
            "“Use of `Data2$target` is discouraged. Use `target` instead.”\n"
          ]
        },
        {
          "output_type": "display_data",
          "data": {
            "text/plain": [
              "\n",
              "       NO       YES \n",
              "0.4868293 0.5131707 "
            ]
          },
          "metadata": {}
        },
        {
          "output_type": "display_data",
          "data": {
            "text/plain": [
              "plot without title"
            ],
            "image/png": "[encoded data removed]"
          },
          "metadata": {
            "image/png": {
              "width": 420,
              "height": 420
            }
          }
        }
      ]
    },
    {
      "cell_type": "code",
      "source": [
        "#Outliers\n",
        "outliers <- boxplot(Data %>% select_if(is.numeric), \n",
        "main = 'Distribution of numeric data', xlab = 'Parameters', ylab = 'value')"
      ],
      "metadata": {
        "colab": {
          "base_uri": "https://localhost:8080/",
          "height": 437
        },
        "id": "ocVnQcOIWq0C",
        "outputId": "bd74a692-27bf-494c-cf76-69b5ca8adfce"
      },
      "execution_count": null,
      "outputs": [
        {
          "output_type": "display_data",
          "data": {
            "text/plain": [
              "Plot with title “Distribution of numeric data”"
            ],
            "image/png": "[encoded data removed]"
          },
          "metadata": {
            "image/png": {
              "width": 420,
              "height": 420
            }
          }
        }
      ]
    },
    {
      "cell_type": "code",
      "source": [
        "data3 <- Data %>% select_if(is.numeric)\n",
        "dim(data3)\n",
        "## [1] 150   4\n",
        " \n",
        "quartiles <- quantile(data3$chol, probs=c(.25, .75), na.rm = FALSE)\n",
        "IQR <- IQR(data3$chol)\n",
        " \n",
        "Lower <- quartiles[1] - 1.5*IQR\n",
        "Upper <- quartiles[2] + 1.5*IQR \n",
        " \n",
        "data3 <- subset(data3, data3$chol > Lower & data3$chol < Upper)\n",
        " \n",
        "dim(data3)"
      ],
      "metadata": {
        "colab": {
          "base_uri": "https://localhost:8080/",
          "height": 52
        },
        "id": "KOtjYhh-Yceh",
        "outputId": "fb8928f4-7ce1-470a-d761-c5b819edd441"
      },
      "execution_count": null,
      "outputs": [
        {
          "output_type": "display_data",
          "data": {
            "text/html": [
              "<style>\n",
              ".list-inline {list-style: none; margin:0; padding: 0}\n",
              ".list-inline>li {display: inline-block}\n",
              ".list-inline>li:not(:last-child)::after {content: \"\\00b7\"; padding: 0 .5ex}\n",
              "</style>\n",
              "<ol class=list-inline><li>1025</li><li>14</li></ol>\n"
            ],
            "text/markdown": "1. 1025\n2. 14\n\n\n",
            "text/latex": "\\begin{enumerate*}\n\\item 1025\n\\item 14\n\\end{enumerate*}\n",
            "text/plain": [
              "[1] 1025   14"
            ]
          },
          "metadata": {}
        },
        {
          "output_type": "display_data",
          "data": {
            "text/html": [
              "<style>\n",
              ".list-inline {list-style: none; margin:0; padding: 0}\n",
              ".list-inline>li {display: inline-block}\n",
              ".list-inline>li:not(:last-child)::after {content: \"\\00b7\"; padding: 0 .5ex}\n",
              "</style>\n",
              "<ol class=list-inline><li>1009</li><li>14</li></ol>\n"
            ],
            "text/markdown": "1. 1009\n2. 14\n\n\n",
            "text/latex": "\\begin{enumerate*}\n\\item 1009\n\\item 14\n\\end{enumerate*}\n",
            "text/plain": [
              "[1] 1009   14"
            ]
          },
          "metadata": {}
        }
      ]
    },
    {
      "cell_type": "code",
      "source": [
        "dim(data3)\n",
        "## [1] 150   4\n",
        " \n",
        "quartiles <- quantile(data3$trestbps, probs=c(.25, .75), na.rm = FALSE)\n",
        "IQR <- IQR(data3$trestbps)\n",
        " \n",
        "Lower <- quartiles[1] - 1.5*IQR\n",
        "Upper <- quartiles[2] + 1.5*IQR \n",
        " \n",
        "data3 <- subset(data3, data3$trestbps > Lower & data3$trestbps < Upper)\n",
        " \n",
        "dim(data3)"
      ],
      "metadata": {
        "colab": {
          "base_uri": "https://localhost:8080/",
          "height": 52
        },
        "id": "MMZ1LjulaRLV",
        "outputId": "33b5d352-107c-4d84-f92e-7dbce6c192e6"
      },
      "execution_count": null,
      "outputs": [
        {
          "output_type": "display_data",
          "data": {
            "text/html": [
              "<style>\n",
              ".list-inline {list-style: none; margin:0; padding: 0}\n",
              ".list-inline>li {display: inline-block}\n",
              ".list-inline>li:not(:last-child)::after {content: \"\\00b7\"; padding: 0 .5ex}\n",
              "</style>\n",
              "<ol class=list-inline><li>1009</li><li>14</li></ol>\n"
            ],
            "text/markdown": "1. 1009\n2. 14\n\n\n",
            "text/latex": "\\begin{enumerate*}\n\\item 1009\n\\item 14\n\\end{enumerate*}\n",
            "text/plain": [
              "[1] 1009   14"
            ]
          },
          "metadata": {}
        },
        {
          "output_type": "display_data",
          "data": {
            "text/html": [
              "<style>\n",
              ".list-inline {list-style: none; margin:0; padding: 0}\n",
              ".list-inline>li {display: inline-block}\n",
              ".list-inline>li:not(:last-child)::after {content: \"\\00b7\"; padding: 0 .5ex}\n",
              "</style>\n",
              "<ol class=list-inline><li>964</li><li>14</li></ol>\n"
            ],
            "text/markdown": "1. 964\n2. 14\n\n\n",
            "text/latex": "\\begin{enumerate*}\n\\item 964\n\\item 14\n\\end{enumerate*}\n",
            "text/plain": [
              "[1] 964  14"
            ]
          },
          "metadata": {}
        }
      ]
    },
    {
      "cell_type": "code",
      "source": [
        "\n",
        "dim(data3)\n",
        "## [1] 150   4\n",
        " \n",
        "quartiles <- quantile(data3$thalach, probs=c(.25, .75), na.rm = FALSE)\n",
        "IQR <- IQR(data3$thalach)\n",
        " \n",
        "Lower <- quartiles[1] - 1.5*IQR\n",
        "Upper <- quartiles[2] + 1.5*IQR \n",
        " \n",
        "data3 <- subset(data3, data3$thalach > Lower & data3$thalach < Upper)\n",
        " \n",
        "dim(data3)"
      ],
      "metadata": {
        "colab": {
          "base_uri": "https://localhost:8080/",
          "height": 52
        },
        "id": "x6obJCHVa28X",
        "outputId": "93dbea29-7ea3-4681-fd05-4630a593eecf"
      },
      "execution_count": null,
      "outputs": [
        {
          "output_type": "display_data",
          "data": {
            "text/html": [
              "<style>\n",
              ".list-inline {list-style: none; margin:0; padding: 0}\n",
              ".list-inline>li {display: inline-block}\n",
              ".list-inline>li:not(:last-child)::after {content: \"\\00b7\"; padding: 0 .5ex}\n",
              "</style>\n",
              "<ol class=list-inline><li>964</li><li>14</li></ol>\n"
            ],
            "text/markdown": "1. 964\n2. 14\n\n\n",
            "text/latex": "\\begin{enumerate*}\n\\item 964\n\\item 14\n\\end{enumerate*}\n",
            "text/plain": [
              "[1] 964  14"
            ]
          },
          "metadata": {}
        },
        {
          "output_type": "display_data",
          "data": {
            "text/html": [
              "<style>\n",
              ".list-inline {list-style: none; margin:0; padding: 0}\n",
              ".list-inline>li {display: inline-block}\n",
              ".list-inline>li:not(:last-child)::after {content: \"\\00b7\"; padding: 0 .5ex}\n",
              "</style>\n",
              "<ol class=list-inline><li>960</li><li>14</li></ol>\n"
            ],
            "text/markdown": "1. 960\n2. 14\n\n\n",
            "text/latex": "\\begin{enumerate*}\n\\item 960\n\\item 14\n\\end{enumerate*}\n",
            "text/plain": [
              "[1] 960  14"
            ]
          },
          "metadata": {}
        }
      ]
    },
    {
      "cell_type": "code",
      "source": [
        "outliers <- boxplot(data3, \n",
        "main = 'Distribution of numeric data', xlab = 'Parameters', ylab = 'value')"
      ],
      "metadata": {
        "colab": {
          "base_uri": "https://localhost:8080/",
          "height": 437
        },
        "id": "PPCMQw8dYsah",
        "outputId": "0f62033a-074d-4288-9684-522f0ac6d7c8"
      },
      "execution_count": null,
      "outputs": [
        {
          "output_type": "display_data",
          "data": {
            "text/plain": [
              "Plot with title “Distribution of numeric data”"
            ],
            "image/png": "[encoded data removed]"
          },
          "metadata": {
            "image/png": {
              "width": 420,
              "height": 420
            }
          }
        }
      ]
    },
    {
      "cell_type": "code",
      "source": [
        "# count the frequency of the values of age\n",
        "\n",
        "Data2 %>%\n",
        "  group_by(age) %>%\n",
        "  count() %>%\n",
        "  filter(n>10) %>%\n",
        "  ggplot()+\n",
        "  geom_col(aes(age, n), fill = 'green')+\n",
        "  ggtitle(\"Age Analysis\")+\n",
        "  xlab(\"Age\")+\n",
        "  ylab(\"Agecount\")"
      ],
      "metadata": {
        "colab": {
          "base_uri": "https://localhost:8080/",
          "height": 437
        },
        "id": "TXYGSzw0NqIQ",
        "outputId": "36cf20cc-1b03-434f-bb47-5622e09d8a9e"
      },
      "execution_count": null,
      "outputs": [
        {
          "output_type": "display_data",
          "data": {
            "text/plain": [
              "plot without title"
            ],
            "image/png": "[encoded data removed]"
          },
          "metadata": {
            "image/png": {
              "width": 420,
              "height": 420
            }
          }
        }
      ]
    },
    {
      "cell_type": "code",
      "source": [
        "#Distribution of Heart Disease Diagnosis\n",
        "Data2$target[Data2$target > 0] <- 1\n",
        "barplot(table(Data2$target),\n",
        "        main=\"Heart disease dist\", col=\"blue\")"
      ],
      "metadata": {
        "colab": {
          "base_uri": "https://localhost:8080/",
          "height": 511
        },
        "id": "hjV270ZgMM8L",
        "outputId": "905d2284-a143-4210-f808-31a444e7b6d9"
      },
      "execution_count": null,
      "outputs": [
        {
          "output_type": "stream",
          "name": "stderr",
          "text": [
            "Warning message in `[<-.factor`(`*tmp*`, Data2$target > 0, value = 1):\n",
            "“invalid factor level, NA generated”\n",
            "Warning message in Ops.factor(Data2$target, 0):\n",
            "“‘>’ not meaningful for factors”\n"
          ]
        },
        {
          "output_type": "display_data",
          "data": {
            "text/plain": [
              "Plot with title “Heart disease dist”"
            ],
            "image/png": "[encoded data removed]"
          },
          "metadata": {
            "image/png": {
              "width": 420,
              "height": 420
            }
          }
        }
      ]
    },
    {
      "cell_type": "markdown",
      "source": [
        "Plot to visualize the heart disease distriuions by chest pain on gender, There are four types of chest pain \n",
        "* 0 - typical angina\n",
        "* 1 - atypicalangina\n",
        "* 2 - non-angina pain\n",
        "* 3 - asymtomatic "
      ],
      "metadata": {
        "id": "qDShsYgy5O-R"
      }
    },
    {
      "cell_type": "code",
      "source": [
        "#Heart Disease Diagnosis Distribution by Chest pain\n",
        "# 0 - typical angina\n",
        "# 1 - atypicalangina\n",
        "# 2 - non-angina pain\n",
        "# 3 - asymtomatic \n",
        "Data$sex <- as.factor(Data$sex)\n",
        "Data$target <- as.factor(Data$target)\n",
        "Data$cp <- as.factor(Data$cp)\n",
        "\n",
        "ggplot(data = Data, aes(x = target, fill = cp)) + \n",
        "  geom_bar(position = \"fill\") +\n",
        "  labs(title = \"Heart disease diagnosis Distributions by Chest pain\",\n",
        "       x = \"Heart disease diagnosis\",\n",
        "       y = \"chest pain\") +\n",
        "  theme_test()"
      ],
      "metadata": {
        "colab": {
          "base_uri": "https://localhost:8080/",
          "height": 437
        },
        "id": "J3qHBy77MM43",
        "outputId": "ed80df7f-9ad5-4d39-9494-5d50c3be81e0"
      },
      "execution_count": null,
      "outputs": [
        {
          "output_type": "display_data",
          "data": {
            "text/plain": [
              "plot without title"
            ],
            "image/png": "[encoded data removed]"
          },
          "metadata": {
            "image/png": {
              "width": 420,
              "height": 420
            }
          }
        }
      ]
    },
    {
      "cell_type": "markdown",
      "source": [
        "Heart disease diagnosis frequency by resting electrocardiographic results and sex"
      ],
      "metadata": {
        "id": "pURdCzZO6nJt"
      }
    },
    {
      "cell_type": "code",
      "source": [
        "#Heart disease diagnosis frequency by resting elextrocardiograaphic results and sex\n",
        "# restecg:\n",
        "# 0 - normal\n",
        "# 1 - having ST-T wave abnormality\n",
        "# 2 - showing probable left ventricular hypertrophy\n",
        "Data$restecg <- as.factor(Data$restecg)\n",
        "Data %>%\n",
        "  ggplot(aes(x = target, fill=restecg)) + \n",
        "  geom_bar(position = \"dodge\") +\n",
        "  facet_grid(~sex) +\n",
        "  scale_fill_brewer(palette = \"Dark2\") +\n",
        "  labs(title=\"Heart disease diagnosis frequency by restecg and sex\")"
      ],
      "metadata": {
        "colab": {
          "base_uri": "https://localhost:8080/",
          "height": 437
        },
        "id": "M1vIao0nMM2K",
        "outputId": "567c8fce-1b31-4693-a7a0-b6a3ea7c50d4"
      },
      "execution_count": null,
      "outputs": [
        {
          "output_type": "display_data",
          "data": {
            "text/plain": [
              "plot without title"
            ],
            "image/png": "[encoded data removed]"
          },
          "metadata": {
            "image/png": {
              "width": 420,
              "height": 420
            }
          }
        }
      ]
    },
    {
      "cell_type": "code",
      "source": [
        "#Correlation \n",
        "Data$age <- as.numeric(Data$age)\n",
        "Data$sex <- as.numeric(Data$sex)\n",
        "Data$cp <- as.numeric(Data$cp)\n",
        "Data$trestbps <- as.numeric(Data$trestbps)\n",
        "Data$chol <- as.numeric(Data$chol)\n",
        "Data$fbs <- as.numeric(Data$fbs)\n",
        "Data$restecg <- as.numeric(Data$restecg)\n",
        "Data$thalach <- as.numeric(Data$thalach)\n",
        "Data$exang <- as.numeric(Data$exang)\n",
        "Data$oldpeak <- as.numeric(Data$oldpeak)\n",
        "Data$slope <- as.numeric(Data$slope)\n",
        "Data$ca <- as.numeric(Data$ca)\n",
        "Data$thal <- as.numeric(Data$thal)\n",
        "\n",
        "correlations <- cor(Data[,1:13])\n",
        "corrplot(correlations, method=\"circle\")"
      ],
      "metadata": {
        "colab": {
          "base_uri": "https://localhost:8080/",
          "height": 437
        },
        "id": "leYQgShdLc5s",
        "outputId": "3921a378-f0ff-4482-a8a5-782d8e16d33b"
      },
      "execution_count": null,
      "outputs": [
        {
          "output_type": "display_data",
          "data": {
            "text/plain": [
              "Plot with title “”"
            ],
            "image/png": "[encoded data removed]"
          },
          "metadata": {
            "image/png": {
              "width": 420,
              "height": 420
            }
          }
        }
      ]
    },
    {
      "cell_type": "code",
      "source": [
        "CHI_cp <- chisq.test(Data$cp, Data$target) \n",
        "CHI_age <- chisq.test(Data$age, Data$target)\n",
        "CHI_trestbps <- chisq.test(Data$trestbps, Data$target)\n",
        "CHI_chol <- chisq.test(Data$chol, Data$target)\n",
        "CHI_fbs <- chisq.test(Data$fbs, Data$target)\n",
        "CHI_restecg <- chisq.test(Data$restecg, Data$target)\n",
        "\n",
        "# Print the results to see if p<0.05.\n",
        "print(CHI_cp)\n",
        "print(CHI_age)\n",
        "print(CHI_trestbps)\n",
        "print(CHI_chol)\n",
        "print(CHI_fbs)\n",
        "print(CHI_restecg)"
      ],
      "metadata": {
        "colab": {
          "base_uri": "https://localhost:8080/"
        },
        "id": "6tM3rRx5Lc2L",
        "outputId": "7a38be96-baa7-4b07-e355-b9d2e6fab0e0"
      },
      "execution_count": null,
      "outputs": [
        {
          "output_type": "stream",
          "name": "stderr",
          "text": [
            "Warning message in chisq.test(Data$age, Data$target):\n",
            "“Chi-squared approximation may be incorrect”\n",
            "Warning message in chisq.test(Data$trestbps, Data$target):\n",
            "“Chi-squared approximation may be incorrect”\n",
            "Warning message in chisq.test(Data$chol, Data$target):\n",
            "“Chi-squared approximation may be incorrect”\n"
          ]
        },
        {
          "output_type": "stream",
          "name": "stdout",
          "text": [
            "\n",
            "\tPearson's Chi-squared test\n",
            "\n",
            "data:  Data$cp and Data$target\n",
            "X-squared = 280.98, df = 3, p-value < 2.2e-16\n",
            "\n",
            "\n",
            "\tPearson's Chi-squared test\n",
            "\n",
            "data:  Data$age and Data$target\n",
            "X-squared = 178.77, df = 40, p-value < 2.2e-16\n",
            "\n",
            "\n",
            "\tPearson's Chi-squared test\n",
            "\n",
            "data:  Data$trestbps and Data$target\n",
            "X-squared = 156.77, df = 48, p-value = 1.824e-13\n",
            "\n",
            "\n",
            "\tPearson's Chi-squared test\n",
            "\n",
            "data:  Data$chol and Data$target\n",
            "X-squared = 597.14, df = 151, p-value < 2.2e-16\n",
            "\n",
            "\n",
            "\tPearson's Chi-squared test with Yates' continuity correction\n",
            "\n",
            "data:  Data$fbs and Data$target\n",
            "X-squared = 1.5134, df = 1, p-value = 0.2186\n",
            "\n",
            "\n",
            "\tPearson's Chi-squared test\n",
            "\n",
            "data:  Data$restecg and Data$target\n",
            "X-squared = 35.784, df = 2, p-value = 1.696e-08\n",
            "\n"
          ]
        }
      ]
    },
    {
      "cell_type": "markdown",
      "source": [
        "# **Feature Selection**"
      ],
      "metadata": {
        "id": "G-lIh1mTMlvb"
      }
    },
    {
      "cell_type": "code",
      "source": [
        "set.seed(123)\n",
        "split=sample.split(Data$target, SplitRatio = 0.8)\n",
        "Train_Data=subset(Data,split == TRUE)\n",
        "Test_Data=subset(Data,split == FALSE)\n",
        "Train_y = Train_Data$target"
      ],
      "metadata": {
        "id": "4MmrPh2mQ97W"
      },
      "execution_count": null,
      "outputs": []
    },
    {
      "cell_type": "markdown",
      "source": [
        "# **KNN**"
      ],
      "metadata": {
        "id": "ik8_PbJiN30-"
      }
    },
    {
      "cell_type": "code",
      "source": [
        "k <- round(sqrt(nrow(Train_Data)))\n",
        "k"
      ],
      "metadata": {
        "colab": {
          "base_uri": "https://localhost:8080/",
          "height": 34
        },
        "id": "Yj-2OvpnSCbP",
        "outputId": "b682ebd4-10bc-4b37-9c16-dcd181a8f04f"
      },
      "execution_count": null,
      "outputs": [
        {
          "output_type": "display_data",
          "data": {
            "text/html": [
              "29"
            ],
            "text/markdown": "29",
            "text/latex": "29",
            "text/plain": [
              "[1] 29"
            ]
          },
          "metadata": {}
        }
      ]
    },
    {
      "cell_type": "code",
      "source": [
        "k <- round(k/4)\n",
        "k"
      ],
      "metadata": {
        "colab": {
          "base_uri": "https://localhost:8080/",
          "height": 34
        },
        "id": "OaYt8bvYSElT",
        "outputId": "e587ea2f-3cb4-4175-e336-5f26c32da945"
      },
      "execution_count": null,
      "outputs": [
        {
          "output_type": "display_data",
          "data": {
            "text/html": [
              "7"
            ],
            "text/markdown": "7",
            "text/latex": "7",
            "text/plain": [
              "[1] 7"
            ]
          },
          "metadata": {}
        }
      ]
    },
    {
      "cell_type": "code",
      "source": [
        "model_knn = knn(train = Train_Data, test = Test_Data, cl = Train_y, k=k)"
      ],
      "metadata": {
        "id": "mKIE7_-mRFLe"
      },
      "execution_count": null,
      "outputs": []
    },
    {
      "cell_type": "code",
      "source": [
        "cm_knn_model = confusionMatrix(as.factor(model_knn), Test_Data$target)\n",
        "cm_knn_model"
      ],
      "metadata": {
        "colab": {
          "base_uri": "https://localhost:8080/",
          "height": 515
        },
        "id": "4l786YITSQK8",
        "outputId": "c77b2474-34ad-4c3b-dcf3-635b72e99530"
      },
      "execution_count": null,
      "outputs": [
        {
          "output_type": "display_data",
          "data": {
            "text/plain": [
              "Confusion Matrix and Statistics\n",
              "\n",
              "          Reference\n",
              "Prediction  0  1\n",
              "         0 79 28\n",
              "         1 21 77\n",
              "                                          \n",
              "               Accuracy : 0.761           \n",
              "                 95% CI : (0.6966, 0.8176)\n",
              "    No Information Rate : 0.5122          \n",
              "    P-Value [Acc > NIR] : 2.201e-13       \n",
              "                                          \n",
              "                  Kappa : 0.5225          \n",
              "                                          \n",
              " Mcnemar's Test P-Value : 0.3914          \n",
              "                                          \n",
              "            Sensitivity : 0.7900          \n",
              "            Specificity : 0.7333          \n",
              "         Pos Pred Value : 0.7383          \n",
              "         Neg Pred Value : 0.7857          \n",
              "             Prevalence : 0.4878          \n",
              "         Detection Rate : 0.3854          \n",
              "   Detection Prevalence : 0.5220          \n",
              "      Balanced Accuracy : 0.7617          \n",
              "                                          \n",
              "       'Positive' Class : 0               \n",
              "                                          "
            ]
          },
          "metadata": {}
        }
      ]
    },
    {
      "cell_type": "markdown",
      "source": [
        "# **Logistic Regression**"
      ],
      "metadata": {
        "id": "aSBE6qwIVEGu"
      }
    },
    {
      "cell_type": "markdown",
      "source": [
        "### **Maxima Function**"
      ],
      "metadata": {
        "id": "Y5Wo8GL5bbkp"
      }
    },
    {
      "cell_type": "code",
      "source": [
        "#Maximal Model\n",
        "model.all <- glm(target ~ . ,  Data, family = 'binomial')\n",
        "summary(model.all)"
      ],
      "metadata": {
        "colab": {
          "base_uri": "https://localhost:8080/",
          "height": 644
        },
        "id": "mAGEBWZzO16u",
        "outputId": "1f20c51e-093c-44a0-c0a1-8ddea5eae512"
      },
      "execution_count": null,
      "outputs": [
        {
          "output_type": "display_data",
          "data": {
            "text/plain": [
              "\n",
              "Call:\n",
              "glm(formula = target ~ ., family = \"binomial\", data = Data)\n",
              "\n",
              "Deviance Residuals: \n",
              "    Min       1Q   Median       3Q      Max  \n",
              "-2.5154  -0.4018   0.1192   0.5949   2.6920  \n",
              "\n",
              "Coefficients:\n",
              "             Estimate Std. Error z value Pr(>|z|)    \n",
              "(Intercept)  4.268955   1.522735   2.803  0.00506 ** \n",
              "age         -0.008199   0.012609  -0.650  0.51551    \n",
              "sex         -1.846549   0.256572  -7.197 6.16e-13 ***\n",
              "cp           0.854601   0.100353   8.516  < 2e-16 ***\n",
              "trestbps    -0.018239   0.005621  -3.245  0.00118 ** \n",
              "chol        -0.005670   0.002056  -2.757  0.00583 ** \n",
              "fbs         -0.101152   0.284855  -0.355  0.72251    \n",
              "restecg      0.413237   0.188984   2.187  0.02877 *  \n",
              "thalach      0.023626   0.005682   4.158 3.21e-05 ***\n",
              "exang       -0.990787   0.224287  -4.418 9.98e-06 ***\n",
              "oldpeak     -0.570731   0.116004  -4.920 8.66e-07 ***\n",
              "slope        0.534070   0.188677   2.831  0.00465 ** \n",
              "ca          -0.754488   0.103052  -7.321 2.45e-13 ***\n",
              "thal        -0.886068   0.155629  -5.693 1.24e-08 ***\n",
              "---\n",
              "Signif. codes:  0 ‘***’ 0.001 ‘**’ 0.01 ‘*’ 0.05 ‘.’ 0.1 ‘ ’ 1\n",
              "\n",
              "(Dispersion parameter for binomial family taken to be 1)\n",
              "\n",
              "    Null deviance: 1420.2  on 1024  degrees of freedom\n",
              "Residual deviance:  718.9  on 1011  degrees of freedom\n",
              "AIC: 746.9\n",
              "\n",
              "Number of Fisher Scoring iterations: 6\n"
            ]
          },
          "metadata": {}
        }
      ]
    },
    {
      "cell_type": "code",
      "source": [
        "# Prediciting using `model.all`\n",
        "result.all <- predict(model.all, Test_Data)\n",
        "\n",
        "# Changing prediction values into classes\n",
        "threshold <- 0.5\n",
        "pred.all <- as.factor(ifelse(result.all > threshold, 1, 0))\n",
        "\n",
        "# Making confusion matrix\n",
        "cm.all <- confusionMatrix(pred.all, Test_Data$target, positive ='1')\n",
        "cm.all"
      ],
      "metadata": {
        "colab": {
          "base_uri": "https://localhost:8080/",
          "height": 515
        },
        "id": "56Xz8OG3VtPX",
        "outputId": "e0ce95ab-c896-4e0e-a4be-ba43b26c64f9"
      },
      "execution_count": null,
      "outputs": [
        {
          "output_type": "display_data",
          "data": {
            "text/plain": [
              "Confusion Matrix and Statistics\n",
              "\n",
              "          Reference\n",
              "Prediction  0  1\n",
              "         0 89 14\n",
              "         1 11 91\n",
              "                                          \n",
              "               Accuracy : 0.878           \n",
              "                 95% CI : (0.8253, 0.9195)\n",
              "    No Information Rate : 0.5122          \n",
              "    P-Value [Acc > NIR] : <2e-16          \n",
              "                                          \n",
              "                  Kappa : 0.7561          \n",
              "                                          \n",
              " Mcnemar's Test P-Value : 0.6892          \n",
              "                                          \n",
              "            Sensitivity : 0.8667          \n",
              "            Specificity : 0.8900          \n",
              "         Pos Pred Value : 0.8922          \n",
              "         Neg Pred Value : 0.8641          \n",
              "             Prevalence : 0.5122          \n",
              "         Detection Rate : 0.4439          \n",
              "   Detection Prevalence : 0.4976          \n",
              "      Balanced Accuracy : 0.8783          \n",
              "                                          \n",
              "       'Positive' Class : 1               \n",
              "                                          "
            ]
          },
          "metadata": {}
        }
      ]
    },
    {
      "cell_type": "markdown",
      "source": [
        "### **Step-wise Function**"
      ],
      "metadata": {
        "id": "39_rTXYmbgfn"
      }
    },
    {
      "cell_type": "markdown",
      "source": [
        "Features for the ogistic regression is selected using the tepwise regression. The direction of features selection is backwards, which means features are selected from the available features."
      ],
      "metadata": {
        "id": "qYBBZmf3ABMA"
      }
    },
    {
      "cell_type": "markdown",
      "source": [
        "Out of  all the 12 features only 8 features were selected ."
      ],
      "metadata": {
        "id": "8Q5noCQwAaOQ"
      }
    },
    {
      "cell_type": "code",
      "source": [
        "#Stepwise\n",
        "model.step <- step(model.all, scope = y ~ ., direction = 'backward', trace = 0)\n",
        "variables <- attr(model.step$terms, 'term.labels')\n",
        "summary(model.step)"
      ],
      "metadata": {
        "colab": {
          "base_uri": "https://localhost:8080/",
          "height": 644
        },
        "id": "iGQaSs0zVahM",
        "outputId": "e96dd609-0bf8-43cf-fd2e-754b45abfc3b"
      },
      "execution_count": null,
      "outputs": [
        {
          "output_type": "display_data",
          "data": {
            "text/plain": [
              "\n",
              "Call:\n",
              "glm(formula = target ~ sex + cp + trestbps + chol + restecg + \n",
              "    thalach + exang + oldpeak + slope + ca + thal, family = \"binomial\", \n",
              "    data = Data)\n",
              "\n",
              "Deviance Residuals: \n",
              "    Min       1Q   Median       3Q      Max  \n",
              "-2.4974  -0.3877   0.1202   0.5907   2.6892  \n",
              "\n",
              "Coefficients:\n",
              "             Estimate Std. Error z value Pr(>|z|)    \n",
              "(Intercept)  3.741329   1.272701   2.940 0.003286 ** \n",
              "sex         -1.833969   0.254163  -7.216 5.37e-13 ***\n",
              "cp           0.845741   0.098436   8.592  < 2e-16 ***\n",
              "trestbps    -0.019334   0.005442  -3.553 0.000381 ***\n",
              "chol        -0.005943   0.002030  -2.928 0.003415 ** \n",
              "restecg      0.428397   0.188103   2.277 0.022759 *  \n",
              "thalach      0.025058   0.005212   4.808 1.53e-06 ***\n",
              "exang       -0.990409   0.223000  -4.441 8.94e-06 ***\n",
              "oldpeak     -0.564467   0.115350  -4.894 9.90e-07 ***\n",
              "slope        0.541397   0.187633   2.885 0.003909 ** \n",
              "ca          -0.765887   0.101506  -7.545 4.51e-14 ***\n",
              "thal        -0.876761   0.152491  -5.750 8.95e-09 ***\n",
              "---\n",
              "Signif. codes:  0 ‘***’ 0.001 ‘**’ 0.01 ‘*’ 0.05 ‘.’ 0.1 ‘ ’ 1\n",
              "\n",
              "(Dispersion parameter for binomial family taken to be 1)\n",
              "\n",
              "    Null deviance: 1420.2  on 1024  degrees of freedom\n",
              "Residual deviance:  719.5  on 1013  degrees of freedom\n",
              "AIC: 743.5\n",
              "\n",
              "Number of Fisher Scoring iterations: 6\n"
            ]
          },
          "metadata": {}
        }
      ]
    },
    {
      "cell_type": "code",
      "source": [
        "# Prediciting using `model.step`\n",
        "result.step <- predict(model.step, Test_Data)\n",
        "\n",
        "# Changing prediction values into classes\n",
        "threshold <- 0.5\n",
        "pred.step <- as.factor(ifelse(result.step > threshold, 1, 0))\n",
        "\n",
        "# Making confusion matrix\n",
        "cm.step <- confusionMatrix(pred.step, Test_Data$target, positive ='1')\n",
        "cm.step"
      ],
      "metadata": {
        "colab": {
          "base_uri": "https://localhost:8080/",
          "height": 515
        },
        "id": "WnQLqoGfV_4i",
        "outputId": "066a1ac9-aa5d-419e-fe58-029445bebe3b"
      },
      "execution_count": null,
      "outputs": [
        {
          "output_type": "display_data",
          "data": {
            "text/plain": [
              "Confusion Matrix and Statistics\n",
              "\n",
              "          Reference\n",
              "Prediction  0  1\n",
              "         0 89 16\n",
              "         1 11 89\n",
              "                                          \n",
              "               Accuracy : 0.8683          \n",
              "                 95% CI : (0.8142, 0.9114)\n",
              "    No Information Rate : 0.5122          \n",
              "    P-Value [Acc > NIR] : <2e-16          \n",
              "                                          \n",
              "                  Kappa : 0.7367          \n",
              "                                          \n",
              " Mcnemar's Test P-Value : 0.4414          \n",
              "                                          \n",
              "            Sensitivity : 0.8476          \n",
              "            Specificity : 0.8900          \n",
              "         Pos Pred Value : 0.8900          \n",
              "         Neg Pred Value : 0.8476          \n",
              "             Prevalence : 0.5122          \n",
              "         Detection Rate : 0.4341          \n",
              "   Detection Prevalence : 0.4878          \n",
              "      Balanced Accuracy : 0.8688          \n",
              "                                          \n",
              "       'Positive' Class : 1               \n",
              "                                          "
            ]
          },
          "metadata": {}
        }
      ]
    },
    {
      "cell_type": "markdown",
      "source": [
        "# **K-Means**"
      ],
      "metadata": {
        "id": "8t39dz09dlQf"
      }
    },
    {
      "cell_type": "code",
      "source": [
        "set.seed(6)\n",
        "wcss = vector()\n",
        "for (i in 1:10) wcss[i] = sum(kmeans(Data, i)$withinss)\n",
        "plot(1:10,\n",
        "     wcss,\n",
        "     type = 'b',\n",
        "     main = paste('The Elbow Method'),\n",
        "     xlab = 'Number of clusters',\n",
        "     ylab = 'WCSS')"
      ],
      "metadata": {
        "colab": {
          "base_uri": "https://localhost:8080/",
          "height": 437
        },
        "id": "wSuVsPL0WJSg",
        "outputId": "7a23bee8-3253-4c2e-f2c2-782e77a796c1"
      },
      "execution_count": null,
      "outputs": [
        {
          "output_type": "display_data",
          "data": {
            "text/plain": [
              "Plot with title “The Elbow Method”"
            ],
            "image/png": "[encoded data removed]"
          },
          "metadata": {
            "image/png": {
              "width": 420,
              "height": 420
            }
          }
        }
      ]
    },
    {
      "cell_type": "code",
      "source": [
        "# Fitting K-Means to the dataset\n",
        "set.seed(29)\n",
        "kmeans = kmeans(x = Data, centers = 2)\n",
        "y_kmeans = kmeans$cluster"
      ],
      "metadata": {
        "id": "iCJFbMSbdtov"
      },
      "execution_count": null,
      "outputs": []
    },
    {
      "cell_type": "code",
      "source": [
        "#Value of cluster center datapoint value(2 center for center = 2)\n",
        "kmeans$centers"
      ],
      "metadata": {
        "colab": {
          "base_uri": "https://localhost:8080/",
          "height": 129
        },
        "id": "g65-Nf8pdtkY",
        "outputId": "1151536c-7394-4db7-95ed-75a557be2a2d"
      },
      "execution_count": null,
      "outputs": [
        {
          "output_type": "display_data",
          "data": {
            "text/html": [
              "<table class=\"dataframe\">\n",
              "<caption>A matrix: 2 × 14 of type dbl</caption>\n",
              "<thead>\n",
              "\t<tr><th></th><th scope=col>age</th><th scope=col>sex</th><th scope=col>cp</th><th scope=col>trestbps</th><th scope=col>chol</th><th scope=col>fbs</th><th scope=col>restecg</th><th scope=col>thalach</th><th scope=col>exang</th><th scope=col>oldpeak</th><th scope=col>slope</th><th scope=col>ca</th><th scope=col>thal</th><th scope=col>target</th></tr>\n",
              "</thead>\n",
              "<tbody>\n",
              "\t<tr><th scope=row>1</th><td>56.65829</td><td>1.613065</td><td>1.819095</td><td>134.6055</td><td>296.1608</td><td>0.1532663</td><td>1.414573</td><td>145.3191</td><td>0.4020101</td><td>1.177387</td><td>1.364322</td><td>0.8743719</td><td>2.414573</td><td>0.4195980</td></tr>\n",
              "\t<tr><th scope=row>2</th><td>53.02233</td><td>1.748006</td><td>2.020734</td><td>129.7113</td><td>214.1595</td><td>0.1467305</td><td>1.602871</td><td>151.5231</td><td>0.2950558</td><td>1.004306</td><td>1.398724</td><td>0.6778309</td><td>2.266348</td><td>0.5725678</td></tr>\n",
              "</tbody>\n",
              "</table>\n"
            ],
            "text/markdown": "\nA matrix: 2 × 14 of type dbl\n\n| <!--/--> | age | sex | cp | trestbps | chol | fbs | restecg | thalach | exang | oldpeak | slope | ca | thal | target |\n|---|---|---|---|---|---|---|---|---|---|---|---|---|---|---|\n| 1 | 56.65829 | 1.613065 | 1.819095 | 134.6055 | 296.1608 | 0.1532663 | 1.414573 | 145.3191 | 0.4020101 | 1.177387 | 1.364322 | 0.8743719 | 2.414573 | 0.4195980 |\n| 2 | 53.02233 | 1.748006 | 2.020734 | 129.7113 | 214.1595 | 0.1467305 | 1.602871 | 151.5231 | 0.2950558 | 1.004306 | 1.398724 | 0.6778309 | 2.266348 | 0.5725678 |\n\n",
            "text/latex": "A matrix: 2 × 14 of type dbl\n\\begin{tabular}{r|llllllllllllll}\n  & age & sex & cp & trestbps & chol & fbs & restecg & thalach & exang & oldpeak & slope & ca & thal & target\\\\\n\\hline\n\t1 & 56.65829 & 1.613065 & 1.819095 & 134.6055 & 296.1608 & 0.1532663 & 1.414573 & 145.3191 & 0.4020101 & 1.177387 & 1.364322 & 0.8743719 & 2.414573 & 0.4195980\\\\\n\t2 & 53.02233 & 1.748006 & 2.020734 & 129.7113 & 214.1595 & 0.1467305 & 1.602871 & 151.5231 & 0.2950558 & 1.004306 & 1.398724 & 0.6778309 & 2.266348 & 0.5725678\\\\\n\\end{tabular}\n",
            "text/plain": [
              "  age      sex      cp       trestbps chol     fbs       restecg  thalach \n",
              "1 56.65829 1.613065 1.819095 134.6055 296.1608 0.1532663 1.414573 145.3191\n",
              "2 53.02233 1.748006 2.020734 129.7113 214.1595 0.1467305 1.602871 151.5231\n",
              "  exang     oldpeak  slope    ca        thal     target   \n",
              "1 0.4020101 1.177387 1.364322 0.8743719 2.414573 0.4195980\n",
              "2 0.2950558 1.004306 1.398724 0.6778309 2.266348 0.5725678"
            ]
          },
          "metadata": {}
        }
      ]
    },
    {
      "cell_type": "code",
      "source": [
        "table(kmeans$cluster, Data2$target)"
      ],
      "metadata": {
        "colab": {
          "base_uri": "https://localhost:8080/",
          "height": 91
        },
        "id": "SpfC5QUxexpZ",
        "outputId": "d458d8a0-ee77-493e-8279-fa77d923ba60"
      },
      "execution_count": null,
      "outputs": [
        {
          "output_type": "display_data",
          "data": {
            "text/plain": [
              "   \n",
              "     NO YES\n",
              "  1 231 167\n",
              "  2 268 359"
            ]
          },
          "metadata": {}
        }
      ]
    },
    {
      "cell_type": "markdown",
      "source": [
        "\n",
        "*   **Total number of correctly classified instances are 231 + 359 = 590**\n",
        "*   **Total number o incorrectly classifies instances are 167 + 268 = 435**\n",
        "*   **Accuracy = 590/(590 + 435) = 0.5756 = 57.56%**"
      ],
      "metadata": {
        "id": "9bWfMy5Xe7sL"
      }
    },
    {
      "cell_type": "code",
      "source": [
        "#AGGLOMERATIVE HIERARCHICAL CLUSTERING \n",
        "# Dissimilarity matrix\n",
        "d <- dist(Data, method = \"euclidean\")"
      ],
      "metadata": {
        "id": "F3YTz2WhhCDx"
      },
      "execution_count": null,
      "outputs": []
    },
    {
      "cell_type": "code",
      "source": [
        "# Ward's method\n",
        "hc5 <- hclust(d, method = \"ward.D2\" )\n",
        "# Cut tree into 4 groups\n",
        "sub_grp <- cutree(hc5, k = 2)\n",
        "table(sub_grp)"
      ],
      "metadata": {
        "id": "nJoU6BJZg5hr",
        "colab": {
          "base_uri": "https://localhost:8080/",
          "height": 72
        },
        "outputId": "a6e653cb-ba37-4be8-dfb2-8a9decb60a65"
      },
      "execution_count": null,
      "outputs": [
        {
          "output_type": "display_data",
          "data": {
            "text/plain": [
              "sub_grp\n",
              "  1   2 \n",
              "542 483 "
            ]
          },
          "metadata": {}
        }
      ]
    },
    {
      "cell_type": "code",
      "source": [
        "#AGGLOMERATIVE HIERARCHICAL CLUSTERING \n",
        "# Dissimilarity matrix\n",
        "d <- dist(Data, method = \"euclidean\")"
      ],
      "metadata": {
        "id": "E1J0tYynBMQ5"
      },
      "execution_count": null,
      "outputs": []
    },
    {
      "cell_type": "code",
      "source": [
        "# Ward's method\n",
        "hc5 <- hclust(d, method = \"ward.D2\" )\n",
        "# Cut tree into 4 groups\n",
        "sub_grp <- cutree(hc5, k = 2)\n",
        "# Number of members in each cluster\n",
        "table(sub_grp)\n"
      ],
      "metadata": {
        "colab": {
          "base_uri": "https://localhost:8080/",
          "height": 72
        },
        "id": "C-vE8moRBa9F",
        "outputId": "ce7151e8-fd51-43c2-b355-22b009376be3"
      },
      "execution_count": null,
      "outputs": [
        {
          "output_type": "display_data",
          "data": {
            "text/plain": [
              "sub_grp\n",
              "  1   2 \n",
              "542 483 "
            ]
          },
          "metadata": {}
        }
      ]
    },
    {
      "cell_type": "markdown",
      "source": [
        "![cluster plot.jpg](data:image/jpeg;base64,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)"
      ],
      "metadata": {
        "id": "Hx-sFtksFCw2"
      }
    },
    {
      "cell_type": "markdown",
      "source": [
        "# **Random Forest**"
      ],
      "metadata": {
        "id": "jh-eFE7WktzU"
      }
    },
    {
      "cell_type": "code",
      "source": [
        "set.seed(123)\n",
        "split=sample.split(Data$target, SplitRatio = 0.8)\n",
        "Train_Data=subset(Data,split == TRUE)\n",
        "Test_Data=subset(Data,split == FALSE)\n",
        "Train_y = Train_Data$target"
      ],
      "metadata": {
        "id": "sO2e1JsQFf0a"
      },
      "execution_count": null,
      "outputs": []
    },
    {
      "cell_type": "code",
      "source": [
        "library(randomForest)\n",
        "set.seed(100)\n",
        "RFModel1 <- randomForest(target ~ ., Train_Data, importance=TRUE, ntree=50)\n",
        "RFModel1"
      ],
      "metadata": {
        "colab": {
          "base_uri": "https://localhost:8080/",
          "height": 238
        },
        "id": "qslEA0H_FmYW",
        "outputId": "648cecdd-387c-421f-9a83-9a197ea04c79"
      },
      "execution_count": null,
      "outputs": [
        {
          "output_type": "display_data",
          "data": {
            "text/plain": [
              "\n",
              "Call:\n",
              " randomForest(formula = target ~ ., data = Train_Data, importance = TRUE,      ntree = 50) \n",
              "               Type of random forest: classification\n",
              "                     Number of trees: 50\n",
              "No. of variables tried at each split: 3\n",
              "\n",
              "        OOB estimate of  error rate: 0.37%\n",
              "Confusion matrix:\n",
              "    0   1 class.error\n",
              "0 398   1 0.002506266\n",
              "1   2 419 0.004750594"
            ]
          },
          "metadata": {}
        }
      ]
    },
    {
      "cell_type": "code",
      "source": [
        "RFPrediction1 <- predict(RFModel1, Test_Data)\n",
        "RFCofMat1 = confusionMatrix(RFPrediction1, Test_Data[,\"target\"])\n",
        "RFCofMat1"
      ],
      "metadata": {
        "colab": {
          "base_uri": "https://localhost:8080/",
          "height": 515
        },
        "id": "yiYbMtgcFuJk",
        "outputId": "af91d249-3e2a-4129-dd01-83f8395ba26f"
      },
      "execution_count": null,
      "outputs": [
        {
          "output_type": "display_data",
          "data": {
            "text/plain": [
              "Confusion Matrix and Statistics\n",
              "\n",
              "          Reference\n",
              "Prediction   0   1\n",
              "         0 100   0\n",
              "         1   0 105\n",
              "                                     \n",
              "               Accuracy : 1          \n",
              "                 95% CI : (0.9822, 1)\n",
              "    No Information Rate : 0.5122     \n",
              "    P-Value [Acc > NIR] : < 2.2e-16  \n",
              "                                     \n",
              "                  Kappa : 1          \n",
              "                                     \n",
              " Mcnemar's Test P-Value : NA         \n",
              "                                     \n",
              "            Sensitivity : 1.0000     \n",
              "            Specificity : 1.0000     \n",
              "         Pos Pred Value : 1.0000     \n",
              "         Neg Pred Value : 1.0000     \n",
              "             Prevalence : 0.4878     \n",
              "         Detection Rate : 0.4878     \n",
              "   Detection Prevalence : 0.4878     \n",
              "      Balanced Accuracy : 1.0000     \n",
              "                                     \n",
              "       'Positive' Class : 0          \n",
              "                                     "
            ]
          },
          "metadata": {}
        }
      ]
    },
    {
      "cell_type": "code",
      "source": [
        "set.seed(123)\n",
        "split=sample.split(Data2$target, SplitRatio = 0.8)\n",
        "Train_Data2=subset(Data2,split == TRUE)\n",
        "Test_Data2=subset(Data2,split == FALSE)\n",
        "Train_y = Train_Data2$target"
      ],
      "metadata": {
        "id": "BUD4NsDekK5G"
      },
      "execution_count": null,
      "outputs": []
    },
    {
      "cell_type": "code",
      "source": [
        "library(randomForest)\n",
        "set.seed(100)\n",
        "RFModel <- randomForest(target ~ ., Train_Data2, importance=TRUE, ntree=8)\n",
        "RFModel"
      ],
      "metadata": {
        "colab": {
          "base_uri": "https://localhost:8080/",
          "height": 238
        },
        "id": "jg-LNzk7gq9x",
        "outputId": "f982a8d7-4c6f-42d7-c57a-e45c0b1e6072"
      },
      "execution_count": null,
      "outputs": [
        {
          "output_type": "display_data",
          "data": {
            "text/plain": [
              "\n",
              "Call:\n",
              " randomForest(formula = target ~ ., data = Train_Data2, importance = TRUE,      ntree = 8) \n",
              "               Type of random forest: classification\n",
              "                     Number of trees: 8\n",
              "No. of variables tried at each split: 3\n",
              "\n",
              "        OOB estimate of  error rate: 3.18%\n",
              "Confusion matrix:\n",
              "     NO YES class.error\n",
              "NO  371  11  0.02879581\n",
              "YES  14 391  0.03456790"
            ]
          },
          "metadata": {}
        }
      ]
    },
    {
      "cell_type": "code",
      "source": [
        "RFPrediction <- predict(RFModel, Test_Data2)\n",
        "RFCofMat = confusionMatrix(RFPrediction, Test_Data2[,\"target\"])\n",
        "RFCofMat"
      ],
      "metadata": {
        "colab": {
          "base_uri": "https://localhost:8080/",
          "height": 515
        },
        "id": "lh4dm9BUkW3T",
        "outputId": "21d5349a-af7a-4297-a82f-65fef80d410b"
      },
      "execution_count": null,
      "outputs": [
        {
          "output_type": "display_data",
          "data": {
            "text/plain": [
              "Confusion Matrix and Statistics\n",
              "\n",
              "          Reference\n",
              "Prediction  NO YES\n",
              "       NO  100   2\n",
              "       YES   0 103\n",
              "                                          \n",
              "               Accuracy : 0.9902          \n",
              "                 95% CI : (0.9652, 0.9988)\n",
              "    No Information Rate : 0.5122          \n",
              "    P-Value [Acc > NIR] : <2e-16          \n",
              "                                          \n",
              "                  Kappa : 0.9805          \n",
              "                                          \n",
              " Mcnemar's Test P-Value : 0.4795          \n",
              "                                          \n",
              "            Sensitivity : 1.0000          \n",
              "            Specificity : 0.9810          \n",
              "         Pos Pred Value : 0.9804          \n",
              "         Neg Pred Value : 1.0000          \n",
              "             Prevalence : 0.4878          \n",
              "         Detection Rate : 0.4878          \n",
              "   Detection Prevalence : 0.4976          \n",
              "      Balanced Accuracy : 0.9905          \n",
              "                                          \n",
              "       'Positive' Class : NO              \n",
              "                                          "
            ]
          },
          "metadata": {}
        }
      ]
    },
    {
      "cell_type": "code",
      "source": [],
      "metadata": {
        "id": "_dC96WcmnV-b"
      },
      "execution_count": null,
      "outputs": []
    },
    {
      "cell_type": "markdown",
      "source": [
        "# **Conclusion**"
      ],
      "metadata": {
        "id": "2vBF87cn62tn"
      }
    },
    {
      "cell_type": "markdown",
      "source": [
        "*  Males are more vulnerable to be iagnosed wwith heart disease than females \n",
        "* Chest pain and cholestral are the most common factors that leads to heat disease for both male and females\n",
        "* High association between chest pain, cholestral, rest electrocardiogram, Thalassemia, maximum heart rate are the highest to cause heart disease for males.\n",
        "\n"
      ],
      "metadata": {
        "id": "3mRPOj1867lx"
      }
    },
    {
      "cell_type": "code",
      "source": [],
      "metadata": {
        "id": "zP9SYob565uR"
      },
      "execution_count": null,
      "outputs": []
    }
  ]
}